{
 "cells": [
  {
   "attachments": {},
   "cell_type": "markdown",
   "id": "2b8b64cf",
   "metadata": {
    "papermill": {
     "duration": 0.013322,
     "end_time": "2023-06-25T06:20:52.158331",
     "exception": false,
     "start_time": "2023-06-25T06:20:52.145009",
     "status": "completed"
    },
    "tags": []
   },
   "source": [
    "# 🔧 **<span style=\"color: DarkGreen; font-family:Times New Roman;\">Binary Classification of Machine Failures</span>**\n",
    "\n",
    "---\n"
   ]
  },
  {
   "attachments": {},
   "cell_type": "markdown",
   "id": "8cec8364",
   "metadata": {
    "papermill": {
     "duration": 0.009614,
     "end_time": "2023-06-25T06:20:52.178072",
     "exception": false,
     "start_time": "2023-06-25T06:20:52.168458",
     "status": "completed"
    },
    "tags": []
   },
   "source": [
    "<div style=\"width:100%;height:0;padding-bottom:72%;position:relative;\"><iframe src=\"https://giphy.com/embed/5QeJjaUixcEF2\" width=\"100%\" height=\"100%\" style=\"position:absolute\" frameBorder=\"0\" class=\"giphy-embed\" allowFullScreen></iframe></div><p><a href=\"https://giphy.com/gifs/looks-spark-faulty-5QeJjaUixcEF2\">via GIPHY</a></p>"
   ]
  },
  {
   "attachments": {},
   "cell_type": "markdown",
   "id": "b0bdbb63",
   "metadata": {
    "papermill": {
     "duration": 0.009666,
     "end_time": "2023-06-25T06:20:52.197672",
     "exception": false,
     "start_time": "2023-06-25T06:20:52.188006",
     "status": "completed"
    },
    "tags": []
   },
   "source": [
    "<span style=\"padding: 10px;\n",
    "              color:white;font-size:200%;\n",
    "           font-family:Time News Roman; color: DarkGreen\">\n",
    "🪔 Please Upvote My Kernel If You Liked It ⬆️\n",
    "</span>\n",
    "\n",
    "---"
   ]
  },
  {
   "attachments": {},
   "cell_type": "markdown",
   "id": "d4fda64f",
   "metadata": {
    "papermill": {
     "duration": 0.009684,
     "end_time": "2023-06-25T06:20:52.217333",
     "exception": false,
     "start_time": "2023-06-25T06:20:52.207649",
     "status": "completed"
    },
    "tags": []
   },
   "source": [
    "* * *\n",
    "# 📖 <span style=\"color: DarkGreen; font-family:Times New Roman;\">INTRODUCTION</span> <a name=\"introduction\"></a>\n",
    "---\n"
   ]
  },
  {
   "attachments": {},
   "cell_type": "markdown",
   "id": "ff6e4ebd",
   "metadata": {
    "papermill": {
     "duration": 0.009586,
     "end_time": "2023-06-25T06:20:52.237205",
     "exception": false,
     "start_time": "2023-06-25T06:20:52.227619",
     "status": "completed"
    },
    "tags": []
   },
   "source": []
  },
  {
   "attachments": {},
   "cell_type": "markdown",
   "id": "1384398f",
   "metadata": {
    "papermill": {
     "duration": 0.009431,
     "end_time": "2023-06-25T06:20:52.256579",
     "exception": false,
     "start_time": "2023-06-25T06:20:52.247148",
     "status": "completed"
    },
    "tags": []
   },
   "source": [
    "# 🖌️ <span style=\"color: DarkGreen; font-family:Times New Roman;\">Change the theme of the notebook</span><a name=\"appearance\"></a>\n",
    "---\n"
   ]
  },
  {
   "cell_type": "code",
   "execution_count": 1,
   "id": "28ced56c",
   "metadata": {
    "execution": {
     "iopub.execute_input": "2023-06-25T06:20:52.278516Z",
     "iopub.status.busy": "2023-06-25T06:20:52.277792Z",
     "iopub.status.idle": "2023-06-25T06:20:53.918576Z",
     "shell.execute_reply": "2023-06-25T06:20:53.917199Z"
    },
    "papermill": {
     "duration": 1.654602,
     "end_time": "2023-06-25T06:20:53.921015",
     "exception": false,
     "start_time": "2023-06-25T06:20:52.266413",
     "status": "completed"
    },
    "tags": []
   },
   "outputs": [],
   "source": [
    "# !wget http://bit.ly/3ZLyF82 -O appearance.css -q\n",
    "    \n",
    "# from IPython.core.display import HTML\n",
    "# with open('./appearance.css', 'r') as file:\n",
    "#     appearance = file.read()\n",
    "\n",
    "# HTML(appearance)"
   ]
  },
  {
   "attachments": {},
   "cell_type": "markdown",
   "id": "8a48bebf",
   "metadata": {
    "papermill": {
     "duration": 0.010196,
     "end_time": "2023-06-25T06:20:53.941572",
     "exception": false,
     "start_time": "2023-06-25T06:20:53.931376",
     "status": "completed"
    },
    "tags": []
   },
   "source": [
    "* * *\n",
    "# 🛠️ <span style=\"color: DarkGreen; font-family:Times New Roman;\">Import important libraries, Read the data</span> <a name=\"iaiil\"></a>\n",
    "---\n"
   ]
  },
  {
   "cell_type": "code",
   "execution_count": 2,
   "id": "2e9b3de1",
   "metadata": {
    "execution": {
     "iopub.execute_input": "2023-06-25T06:20:53.964916Z",
     "iopub.status.busy": "2023-06-25T06:20:53.964196Z",
     "iopub.status.idle": "2023-06-25T06:21:03.255580Z",
     "shell.execute_reply": "2023-06-25T06:21:03.254466Z"
    },
    "papermill": {
     "duration": 9.306385,
     "end_time": "2023-06-25T06:21:03.258306",
     "exception": false,
     "start_time": "2023-06-25T06:20:53.951921",
     "status": "completed"
    },
    "tags": []
   },
   "outputs": [
    {
     "name": "stderr",
     "output_type": "stream",
     "text": [
      "2023-06-26 08:49:07.992698: I tensorflow/core/platform/cpu_feature_guard.cc:193] This TensorFlow binary is optimized with oneAPI Deep Neural Network Library (oneDNN) to use the following CPU instructions in performance-critical operations:  AVX2 FMA\n",
      "To enable them in other operations, rebuild TensorFlow with the appropriate compiler flags.\n",
      "2023-06-26 08:49:08.537384: W tensorflow/stream_executor/platform/default/dso_loader.cc:64] Could not load dynamic library 'libcudart.so.11.0'; dlerror: libcudart.so.11.0: cannot open shared object file: No such file or directory\n",
      "2023-06-26 08:49:08.537405: I tensorflow/stream_executor/cuda/cudart_stub.cc:29] Ignore above cudart dlerror if you do not have a GPU set up on your machine.\n",
      "2023-06-26 08:49:08.610064: E tensorflow/stream_executor/cuda/cuda_blas.cc:2981] Unable to register cuBLAS factory: Attempting to register factory for plugin cuBLAS when one has already been registered\n",
      "2023-06-26 08:49:10.132640: W tensorflow/stream_executor/platform/default/dso_loader.cc:64] Could not load dynamic library 'libnvinfer.so.7'; dlerror: libnvinfer.so.7: cannot open shared object file: No such file or directory\n",
      "2023-06-26 08:49:10.132815: W tensorflow/stream_executor/platform/default/dso_loader.cc:64] Could not load dynamic library 'libnvinfer_plugin.so.7'; dlerror: libnvinfer_plugin.so.7: cannot open shared object file: No such file or directory\n",
      "2023-06-26 08:49:10.132826: W tensorflow/compiler/tf2tensorrt/utils/py_utils.cc:38] TF-TRT Warning: Cannot dlopen some TensorRT libraries. If you would like to use Nvidia GPU with TensorRT, please make sure the missing libraries mentioned above are installed properly.\n"
     ]
    }
   ],
   "source": [
    "import numpy as np\n",
    "import pandas as pd\n",
    "import seaborn as sns\n",
    "import tensorflow as tf\n",
    "import matplotlib.pyplot as plt\n",
    "from xgboost import XGBClassifier\n",
    "from sklearn.preprocessing import MinMaxScaler\n",
    "from sklearn.linear_model import LogisticRegression\n",
    "from sklearn.ensemble import RandomForestClassifier\n",
    "from sklearn.metrics import roc_auc_score, confusion_matrix,ConfusionMatrixDisplay\n",
    "from sklearn.model_selection import train_test_split, RandomizedSearchCV,KFold\n"
   ]
  },
  {
   "cell_type": "code",
   "execution_count": 3,
   "id": "e8225487",
   "metadata": {
    "execution": {
     "iopub.execute_input": "2023-06-25T06:21:03.281729Z",
     "iopub.status.busy": "2023-06-25T06:21:03.280966Z",
     "iopub.status.idle": "2023-06-25T06:21:03.715894Z",
     "shell.execute_reply": "2023-06-25T06:21:03.714902Z"
    },
    "papermill": {
     "duration": 0.44951,
     "end_time": "2023-06-25T06:21:03.718577",
     "exception": false,
     "start_time": "2023-06-25T06:21:03.269067",
     "status": "completed"
    },
    "tags": []
   },
   "outputs": [],
   "source": [
    "train = pd.read_csv(\"train.csv\",index_col = \"id\")\n",
    "test = pd.read_csv(\"test.csv\",index_col = \"id\")"
   ]
  },
  {
   "cell_type": "code",
   "execution_count": 4,
   "id": "d322a483",
   "metadata": {
    "execution": {
     "iopub.execute_input": "2023-06-25T06:21:03.742242Z",
     "iopub.status.busy": "2023-06-25T06:21:03.741610Z",
     "iopub.status.idle": "2023-06-25T06:21:03.745929Z",
     "shell.execute_reply": "2023-06-25T06:21:03.744897Z"
    },
    "papermill": {
     "duration": 0.018665,
     "end_time": "2023-06-25T06:21:03.748337",
     "exception": false,
     "start_time": "2023-06-25T06:21:03.729672",
     "status": "completed"
    },
    "tags": []
   },
   "outputs": [],
   "source": [
    "# Random State\n",
    "RS = 13\n",
    "\n",
    "# Folds Number\n",
    "folds = 5\n"
   ]
  },
  {
   "attachments": {},
   "cell_type": "markdown",
   "id": "e0f423c9",
   "metadata": {
    "papermill": {
     "duration": 0.010665,
     "end_time": "2023-06-25T06:21:03.769485",
     "exception": false,
     "start_time": "2023-06-25T06:21:03.758820",
     "status": "completed"
    },
    "tags": []
   },
   "source": [
    "* * *\n",
    "# 👁️ <span style=\"color: DarkGreen; font-family:Times New Roman;\">Overview</span> <a name=\"overview\"></a>\n",
    "---\n"
   ]
  },
  {
   "cell_type": "code",
   "execution_count": 5,
   "id": "b608f1ca",
   "metadata": {
    "execution": {
     "iopub.execute_input": "2023-06-25T06:21:03.792518Z",
     "iopub.status.busy": "2023-06-25T06:21:03.791826Z",
     "iopub.status.idle": "2023-06-25T06:21:03.798107Z",
     "shell.execute_reply": "2023-06-25T06:21:03.797359Z"
    },
    "papermill": {
     "duration": 0.02023,
     "end_time": "2023-06-25T06:21:03.800304",
     "exception": false,
     "start_time": "2023-06-25T06:21:03.780074",
     "status": "completed"
    },
    "tags": []
   },
   "outputs": [
    {
     "data": {
      "text/plain": [
       "(136429, 13)"
      ]
     },
     "execution_count": 5,
     "metadata": {},
     "output_type": "execute_result"
    }
   ],
   "source": [
    "train.shape"
   ]
  },
  {
   "cell_type": "code",
   "execution_count": 6,
   "id": "10988eaa",
   "metadata": {
    "execution": {
     "iopub.execute_input": "2023-06-25T06:21:03.823603Z",
     "iopub.status.busy": "2023-06-25T06:21:03.822973Z",
     "iopub.status.idle": "2023-06-25T06:21:03.852190Z",
     "shell.execute_reply": "2023-06-25T06:21:03.850998Z"
    },
    "papermill": {
     "duration": 0.043641,
     "end_time": "2023-06-25T06:21:03.854572",
     "exception": false,
     "start_time": "2023-06-25T06:21:03.810931",
     "status": "completed"
    },
    "tags": []
   },
   "outputs": [
    {
     "data": {
      "text/html": [
       "<div>\n",
       "<style scoped>\n",
       "    .dataframe tbody tr th:only-of-type {\n",
       "        vertical-align: middle;\n",
       "    }\n",
       "\n",
       "    .dataframe tbody tr th {\n",
       "        vertical-align: top;\n",
       "    }\n",
       "\n",
       "    .dataframe thead th {\n",
       "        text-align: right;\n",
       "    }\n",
       "</style>\n",
       "<table border=\"1\" class=\"dataframe\">\n",
       "  <thead>\n",
       "    <tr style=\"text-align: right;\">\n",
       "      <th></th>\n",
       "      <th>Product ID</th>\n",
       "      <th>Type</th>\n",
       "      <th>Air temperature [K]</th>\n",
       "      <th>Process temperature [K]</th>\n",
       "      <th>Rotational speed [rpm]</th>\n",
       "      <th>Torque [Nm]</th>\n",
       "      <th>Tool wear [min]</th>\n",
       "      <th>Machine failure</th>\n",
       "      <th>TWF</th>\n",
       "      <th>HDF</th>\n",
       "      <th>PWF</th>\n",
       "      <th>OSF</th>\n",
       "      <th>RNF</th>\n",
       "    </tr>\n",
       "    <tr>\n",
       "      <th>id</th>\n",
       "      <th></th>\n",
       "      <th></th>\n",
       "      <th></th>\n",
       "      <th></th>\n",
       "      <th></th>\n",
       "      <th></th>\n",
       "      <th></th>\n",
       "      <th></th>\n",
       "      <th></th>\n",
       "      <th></th>\n",
       "      <th></th>\n",
       "      <th></th>\n",
       "      <th></th>\n",
       "    </tr>\n",
       "  </thead>\n",
       "  <tbody>\n",
       "    <tr>\n",
       "      <th>0</th>\n",
       "      <td>L50096</td>\n",
       "      <td>L</td>\n",
       "      <td>300.6</td>\n",
       "      <td>309.6</td>\n",
       "      <td>1596</td>\n",
       "      <td>36.1</td>\n",
       "      <td>140</td>\n",
       "      <td>0</td>\n",
       "      <td>0</td>\n",
       "      <td>0</td>\n",
       "      <td>0</td>\n",
       "      <td>0</td>\n",
       "      <td>0</td>\n",
       "    </tr>\n",
       "    <tr>\n",
       "      <th>1</th>\n",
       "      <td>M20343</td>\n",
       "      <td>M</td>\n",
       "      <td>302.6</td>\n",
       "      <td>312.1</td>\n",
       "      <td>1759</td>\n",
       "      <td>29.1</td>\n",
       "      <td>200</td>\n",
       "      <td>0</td>\n",
       "      <td>0</td>\n",
       "      <td>0</td>\n",
       "      <td>0</td>\n",
       "      <td>0</td>\n",
       "      <td>0</td>\n",
       "    </tr>\n",
       "    <tr>\n",
       "      <th>2</th>\n",
       "      <td>L49454</td>\n",
       "      <td>L</td>\n",
       "      <td>299.3</td>\n",
       "      <td>308.5</td>\n",
       "      <td>1805</td>\n",
       "      <td>26.5</td>\n",
       "      <td>25</td>\n",
       "      <td>0</td>\n",
       "      <td>0</td>\n",
       "      <td>0</td>\n",
       "      <td>0</td>\n",
       "      <td>0</td>\n",
       "      <td>0</td>\n",
       "    </tr>\n",
       "    <tr>\n",
       "      <th>3</th>\n",
       "      <td>L53355</td>\n",
       "      <td>L</td>\n",
       "      <td>301.0</td>\n",
       "      <td>310.9</td>\n",
       "      <td>1524</td>\n",
       "      <td>44.3</td>\n",
       "      <td>197</td>\n",
       "      <td>0</td>\n",
       "      <td>0</td>\n",
       "      <td>0</td>\n",
       "      <td>0</td>\n",
       "      <td>0</td>\n",
       "      <td>0</td>\n",
       "    </tr>\n",
       "    <tr>\n",
       "      <th>4</th>\n",
       "      <td>M24050</td>\n",
       "      <td>M</td>\n",
       "      <td>298.0</td>\n",
       "      <td>309.0</td>\n",
       "      <td>1641</td>\n",
       "      <td>35.4</td>\n",
       "      <td>34</td>\n",
       "      <td>0</td>\n",
       "      <td>0</td>\n",
       "      <td>0</td>\n",
       "      <td>0</td>\n",
       "      <td>0</td>\n",
       "      <td>0</td>\n",
       "    </tr>\n",
       "  </tbody>\n",
       "</table>\n",
       "</div>"
      ],
      "text/plain": [
       "   Product ID Type  Air temperature [K]  Process temperature [K]  \\\n",
       "id                                                                 \n",
       "0      L50096    L                300.6                    309.6   \n",
       "1      M20343    M                302.6                    312.1   \n",
       "2      L49454    L                299.3                    308.5   \n",
       "3      L53355    L                301.0                    310.9   \n",
       "4      M24050    M                298.0                    309.0   \n",
       "\n",
       "    Rotational speed [rpm]  Torque [Nm]  Tool wear [min]  Machine failure  \\\n",
       "id                                                                          \n",
       "0                     1596         36.1              140                0   \n",
       "1                     1759         29.1              200                0   \n",
       "2                     1805         26.5               25                0   \n",
       "3                     1524         44.3              197                0   \n",
       "4                     1641         35.4               34                0   \n",
       "\n",
       "    TWF  HDF  PWF  OSF  RNF  \n",
       "id                           \n",
       "0     0    0    0    0    0  \n",
       "1     0    0    0    0    0  \n",
       "2     0    0    0    0    0  \n",
       "3     0    0    0    0    0  \n",
       "4     0    0    0    0    0  "
      ]
     },
     "execution_count": 6,
     "metadata": {},
     "output_type": "execute_result"
    }
   ],
   "source": [
    "train.head()"
   ]
  },
  {
   "cell_type": "code",
   "execution_count": 7,
   "id": "072d90e9",
   "metadata": {
    "execution": {
     "iopub.execute_input": "2023-06-25T06:21:03.878607Z",
     "iopub.status.busy": "2023-06-25T06:21:03.877935Z",
     "iopub.status.idle": "2023-06-25T06:21:03.893644Z",
     "shell.execute_reply": "2023-06-25T06:21:03.892431Z"
    },
    "papermill": {
     "duration": 0.030265,
     "end_time": "2023-06-25T06:21:03.895822",
     "exception": false,
     "start_time": "2023-06-25T06:21:03.865557",
     "status": "completed"
    },
    "tags": []
   },
   "outputs": [
    {
     "data": {
      "text/plain": [
       "array(['L', 'M', 'H'], dtype=object)"
      ]
     },
     "execution_count": 7,
     "metadata": {},
     "output_type": "execute_result"
    }
   ],
   "source": [
    "train.Type.unique()"
   ]
  },
  {
   "cell_type": "code",
   "execution_count": 8,
   "id": "1879a565",
   "metadata": {
    "execution": {
     "iopub.execute_input": "2023-06-25T06:21:03.919812Z",
     "iopub.status.busy": "2023-06-25T06:21:03.919120Z",
     "iopub.status.idle": "2023-06-25T06:21:03.935093Z",
     "shell.execute_reply": "2023-06-25T06:21:03.933990Z"
    },
    "papermill": {
     "duration": 0.030724,
     "end_time": "2023-06-25T06:21:03.937493",
     "exception": false,
     "start_time": "2023-06-25T06:21:03.906769",
     "status": "completed"
    },
    "tags": []
   },
   "outputs": [
    {
     "data": {
      "text/html": [
       "<div>\n",
       "<style scoped>\n",
       "    .dataframe tbody tr th:only-of-type {\n",
       "        vertical-align: middle;\n",
       "    }\n",
       "\n",
       "    .dataframe tbody tr th {\n",
       "        vertical-align: top;\n",
       "    }\n",
       "\n",
       "    .dataframe thead th {\n",
       "        text-align: right;\n",
       "    }\n",
       "</style>\n",
       "<table border=\"1\" class=\"dataframe\">\n",
       "  <thead>\n",
       "    <tr style=\"text-align: right;\">\n",
       "      <th></th>\n",
       "      <th>Product ID</th>\n",
       "      <th>Type</th>\n",
       "      <th>Air temperature [K]</th>\n",
       "      <th>Process temperature [K]</th>\n",
       "      <th>Rotational speed [rpm]</th>\n",
       "      <th>Torque [Nm]</th>\n",
       "      <th>Tool wear [min]</th>\n",
       "      <th>Machine failure</th>\n",
       "      <th>TWF</th>\n",
       "      <th>HDF</th>\n",
       "      <th>PWF</th>\n",
       "      <th>OSF</th>\n",
       "      <th>RNF</th>\n",
       "    </tr>\n",
       "    <tr>\n",
       "      <th>id</th>\n",
       "      <th></th>\n",
       "      <th></th>\n",
       "      <th></th>\n",
       "      <th></th>\n",
       "      <th></th>\n",
       "      <th></th>\n",
       "      <th></th>\n",
       "      <th></th>\n",
       "      <th></th>\n",
       "      <th></th>\n",
       "      <th></th>\n",
       "      <th></th>\n",
       "      <th></th>\n",
       "    </tr>\n",
       "  </thead>\n",
       "  <tbody>\n",
       "    <tr>\n",
       "      <th>136424</th>\n",
       "      <td>M22284</td>\n",
       "      <td>M</td>\n",
       "      <td>300.1</td>\n",
       "      <td>311.4</td>\n",
       "      <td>1530</td>\n",
       "      <td>37.5</td>\n",
       "      <td>210</td>\n",
       "      <td>0</td>\n",
       "      <td>0</td>\n",
       "      <td>0</td>\n",
       "      <td>0</td>\n",
       "      <td>0</td>\n",
       "      <td>0</td>\n",
       "    </tr>\n",
       "    <tr>\n",
       "      <th>136425</th>\n",
       "      <td>H38017</td>\n",
       "      <td>H</td>\n",
       "      <td>297.5</td>\n",
       "      <td>308.5</td>\n",
       "      <td>1447</td>\n",
       "      <td>49.1</td>\n",
       "      <td>2</td>\n",
       "      <td>0</td>\n",
       "      <td>0</td>\n",
       "      <td>0</td>\n",
       "      <td>0</td>\n",
       "      <td>0</td>\n",
       "      <td>0</td>\n",
       "    </tr>\n",
       "    <tr>\n",
       "      <th>136426</th>\n",
       "      <td>L54690</td>\n",
       "      <td>L</td>\n",
       "      <td>300.5</td>\n",
       "      <td>311.8</td>\n",
       "      <td>1524</td>\n",
       "      <td>38.5</td>\n",
       "      <td>214</td>\n",
       "      <td>0</td>\n",
       "      <td>0</td>\n",
       "      <td>0</td>\n",
       "      <td>0</td>\n",
       "      <td>0</td>\n",
       "      <td>0</td>\n",
       "    </tr>\n",
       "    <tr>\n",
       "      <th>136427</th>\n",
       "      <td>L53876</td>\n",
       "      <td>L</td>\n",
       "      <td>301.7</td>\n",
       "      <td>310.9</td>\n",
       "      <td>1447</td>\n",
       "      <td>46.3</td>\n",
       "      <td>42</td>\n",
       "      <td>0</td>\n",
       "      <td>0</td>\n",
       "      <td>0</td>\n",
       "      <td>0</td>\n",
       "      <td>0</td>\n",
       "      <td>0</td>\n",
       "    </tr>\n",
       "    <tr>\n",
       "      <th>136428</th>\n",
       "      <td>L47937</td>\n",
       "      <td>L</td>\n",
       "      <td>296.9</td>\n",
       "      <td>308.1</td>\n",
       "      <td>1557</td>\n",
       "      <td>39.3</td>\n",
       "      <td>229</td>\n",
       "      <td>0</td>\n",
       "      <td>0</td>\n",
       "      <td>0</td>\n",
       "      <td>0</td>\n",
       "      <td>0</td>\n",
       "      <td>0</td>\n",
       "    </tr>\n",
       "  </tbody>\n",
       "</table>\n",
       "</div>"
      ],
      "text/plain": [
       "       Product ID Type  Air temperature [K]  Process temperature [K]  \\\n",
       "id                                                                     \n",
       "136424     M22284    M                300.1                    311.4   \n",
       "136425     H38017    H                297.5                    308.5   \n",
       "136426     L54690    L                300.5                    311.8   \n",
       "136427     L53876    L                301.7                    310.9   \n",
       "136428     L47937    L                296.9                    308.1   \n",
       "\n",
       "        Rotational speed [rpm]  Torque [Nm]  Tool wear [min]  Machine failure  \\\n",
       "id                                                                              \n",
       "136424                    1530         37.5              210                0   \n",
       "136425                    1447         49.1                2                0   \n",
       "136426                    1524         38.5              214                0   \n",
       "136427                    1447         46.3               42                0   \n",
       "136428                    1557         39.3              229                0   \n",
       "\n",
       "        TWF  HDF  PWF  OSF  RNF  \n",
       "id                               \n",
       "136424    0    0    0    0    0  \n",
       "136425    0    0    0    0    0  \n",
       "136426    0    0    0    0    0  \n",
       "136427    0    0    0    0    0  \n",
       "136428    0    0    0    0    0  "
      ]
     },
     "execution_count": 8,
     "metadata": {},
     "output_type": "execute_result"
    }
   ],
   "source": [
    "train.tail()"
   ]
  },
  {
   "cell_type": "code",
   "execution_count": 9,
   "id": "f429a3ea",
   "metadata": {
    "execution": {
     "iopub.execute_input": "2023-06-25T06:21:03.962255Z",
     "iopub.status.busy": "2023-06-25T06:21:03.961178Z",
     "iopub.status.idle": "2023-06-25T06:21:04.027857Z",
     "shell.execute_reply": "2023-06-25T06:21:04.026374Z"
    },
    "papermill": {
     "duration": 0.081802,
     "end_time": "2023-06-25T06:21:04.030512",
     "exception": false,
     "start_time": "2023-06-25T06:21:03.948710",
     "status": "completed"
    },
    "tags": []
   },
   "outputs": [
    {
     "name": "stdout",
     "output_type": "stream",
     "text": [
      "<class 'pandas.core.frame.DataFrame'>\n",
      "Int64Index: 136429 entries, 0 to 136428\n",
      "Data columns (total 13 columns):\n",
      " #   Column                   Non-Null Count   Dtype  \n",
      "---  ------                   --------------   -----  \n",
      " 0   Product ID               136429 non-null  object \n",
      " 1   Type                     136429 non-null  object \n",
      " 2   Air temperature [K]      136429 non-null  float64\n",
      " 3   Process temperature [K]  136429 non-null  float64\n",
      " 4   Rotational speed [rpm]   136429 non-null  int64  \n",
      " 5   Torque [Nm]              136429 non-null  float64\n",
      " 6   Tool wear [min]          136429 non-null  int64  \n",
      " 7   Machine failure          136429 non-null  int64  \n",
      " 8   TWF                      136429 non-null  int64  \n",
      " 9   HDF                      136429 non-null  int64  \n",
      " 10  PWF                      136429 non-null  int64  \n",
      " 11  OSF                      136429 non-null  int64  \n",
      " 12  RNF                      136429 non-null  int64  \n",
      "dtypes: float64(3), int64(8), object(2)\n",
      "memory usage: 14.6+ MB\n"
     ]
    }
   ],
   "source": [
    "train.info()"
   ]
  },
  {
   "cell_type": "code",
   "execution_count": 10,
   "id": "b797f1e8",
   "metadata": {
    "execution": {
     "iopub.execute_input": "2023-06-25T06:21:04.055213Z",
     "iopub.status.busy": "2023-06-25T06:21:04.054823Z",
     "iopub.status.idle": "2023-06-25T06:21:04.148315Z",
     "shell.execute_reply": "2023-06-25T06:21:04.147034Z"
    },
    "papermill": {
     "duration": 0.108778,
     "end_time": "2023-06-25T06:21:04.150809",
     "exception": false,
     "start_time": "2023-06-25T06:21:04.042031",
     "status": "completed"
    },
    "tags": []
   },
   "outputs": [
    {
     "data": {
      "text/html": [
       "<div>\n",
       "<style scoped>\n",
       "    .dataframe tbody tr th:only-of-type {\n",
       "        vertical-align: middle;\n",
       "    }\n",
       "\n",
       "    .dataframe tbody tr th {\n",
       "        vertical-align: top;\n",
       "    }\n",
       "\n",
       "    .dataframe thead th {\n",
       "        text-align: right;\n",
       "    }\n",
       "</style>\n",
       "<table border=\"1\" class=\"dataframe\">\n",
       "  <thead>\n",
       "    <tr style=\"text-align: right;\">\n",
       "      <th></th>\n",
       "      <th>Air temperature [K]</th>\n",
       "      <th>Process temperature [K]</th>\n",
       "      <th>Rotational speed [rpm]</th>\n",
       "      <th>Torque [Nm]</th>\n",
       "      <th>Tool wear [min]</th>\n",
       "      <th>Machine failure</th>\n",
       "      <th>TWF</th>\n",
       "      <th>HDF</th>\n",
       "      <th>PWF</th>\n",
       "      <th>OSF</th>\n",
       "      <th>RNF</th>\n",
       "    </tr>\n",
       "  </thead>\n",
       "  <tbody>\n",
       "    <tr>\n",
       "      <th>count</th>\n",
       "      <td>136429.000000</td>\n",
       "      <td>136429.000000</td>\n",
       "      <td>136429.000000</td>\n",
       "      <td>136429.000000</td>\n",
       "      <td>136429.000000</td>\n",
       "      <td>136429.000000</td>\n",
       "      <td>136429.000000</td>\n",
       "      <td>136429.000000</td>\n",
       "      <td>136429.000000</td>\n",
       "      <td>136429.000000</td>\n",
       "      <td>136429.000000</td>\n",
       "    </tr>\n",
       "    <tr>\n",
       "      <th>mean</th>\n",
       "      <td>299.862776</td>\n",
       "      <td>309.941070</td>\n",
       "      <td>1520.331110</td>\n",
       "      <td>40.348643</td>\n",
       "      <td>104.408901</td>\n",
       "      <td>0.015744</td>\n",
       "      <td>0.001554</td>\n",
       "      <td>0.005160</td>\n",
       "      <td>0.002397</td>\n",
       "      <td>0.003958</td>\n",
       "      <td>0.002258</td>\n",
       "    </tr>\n",
       "    <tr>\n",
       "      <th>std</th>\n",
       "      <td>1.862247</td>\n",
       "      <td>1.385173</td>\n",
       "      <td>138.736632</td>\n",
       "      <td>8.502229</td>\n",
       "      <td>63.965040</td>\n",
       "      <td>0.124486</td>\n",
       "      <td>0.039389</td>\n",
       "      <td>0.071649</td>\n",
       "      <td>0.048899</td>\n",
       "      <td>0.062789</td>\n",
       "      <td>0.047461</td>\n",
       "    </tr>\n",
       "    <tr>\n",
       "      <th>min</th>\n",
       "      <td>295.300000</td>\n",
       "      <td>305.800000</td>\n",
       "      <td>1181.000000</td>\n",
       "      <td>3.800000</td>\n",
       "      <td>0.000000</td>\n",
       "      <td>0.000000</td>\n",
       "      <td>0.000000</td>\n",
       "      <td>0.000000</td>\n",
       "      <td>0.000000</td>\n",
       "      <td>0.000000</td>\n",
       "      <td>0.000000</td>\n",
       "    </tr>\n",
       "    <tr>\n",
       "      <th>25%</th>\n",
       "      <td>298.300000</td>\n",
       "      <td>308.700000</td>\n",
       "      <td>1432.000000</td>\n",
       "      <td>34.600000</td>\n",
       "      <td>48.000000</td>\n",
       "      <td>0.000000</td>\n",
       "      <td>0.000000</td>\n",
       "      <td>0.000000</td>\n",
       "      <td>0.000000</td>\n",
       "      <td>0.000000</td>\n",
       "      <td>0.000000</td>\n",
       "    </tr>\n",
       "    <tr>\n",
       "      <th>50%</th>\n",
       "      <td>300.000000</td>\n",
       "      <td>310.000000</td>\n",
       "      <td>1493.000000</td>\n",
       "      <td>40.400000</td>\n",
       "      <td>106.000000</td>\n",
       "      <td>0.000000</td>\n",
       "      <td>0.000000</td>\n",
       "      <td>0.000000</td>\n",
       "      <td>0.000000</td>\n",
       "      <td>0.000000</td>\n",
       "      <td>0.000000</td>\n",
       "    </tr>\n",
       "    <tr>\n",
       "      <th>75%</th>\n",
       "      <td>301.200000</td>\n",
       "      <td>310.900000</td>\n",
       "      <td>1580.000000</td>\n",
       "      <td>46.100000</td>\n",
       "      <td>159.000000</td>\n",
       "      <td>0.000000</td>\n",
       "      <td>0.000000</td>\n",
       "      <td>0.000000</td>\n",
       "      <td>0.000000</td>\n",
       "      <td>0.000000</td>\n",
       "      <td>0.000000</td>\n",
       "    </tr>\n",
       "    <tr>\n",
       "      <th>max</th>\n",
       "      <td>304.400000</td>\n",
       "      <td>313.800000</td>\n",
       "      <td>2886.000000</td>\n",
       "      <td>76.600000</td>\n",
       "      <td>253.000000</td>\n",
       "      <td>1.000000</td>\n",
       "      <td>1.000000</td>\n",
       "      <td>1.000000</td>\n",
       "      <td>1.000000</td>\n",
       "      <td>1.000000</td>\n",
       "      <td>1.000000</td>\n",
       "    </tr>\n",
       "  </tbody>\n",
       "</table>\n",
       "</div>"
      ],
      "text/plain": [
       "       Air temperature [K]  Process temperature [K]  Rotational speed [rpm]  \\\n",
       "count        136429.000000            136429.000000           136429.000000   \n",
       "mean            299.862776               309.941070             1520.331110   \n",
       "std               1.862247                 1.385173              138.736632   \n",
       "min             295.300000               305.800000             1181.000000   \n",
       "25%             298.300000               308.700000             1432.000000   \n",
       "50%             300.000000               310.000000             1493.000000   \n",
       "75%             301.200000               310.900000             1580.000000   \n",
       "max             304.400000               313.800000             2886.000000   \n",
       "\n",
       "         Torque [Nm]  Tool wear [min]  Machine failure            TWF  \\\n",
       "count  136429.000000    136429.000000    136429.000000  136429.000000   \n",
       "mean       40.348643       104.408901         0.015744       0.001554   \n",
       "std         8.502229        63.965040         0.124486       0.039389   \n",
       "min         3.800000         0.000000         0.000000       0.000000   \n",
       "25%        34.600000        48.000000         0.000000       0.000000   \n",
       "50%        40.400000       106.000000         0.000000       0.000000   \n",
       "75%        46.100000       159.000000         0.000000       0.000000   \n",
       "max        76.600000       253.000000         1.000000       1.000000   \n",
       "\n",
       "                 HDF            PWF            OSF            RNF  \n",
       "count  136429.000000  136429.000000  136429.000000  136429.000000  \n",
       "mean        0.005160       0.002397       0.003958       0.002258  \n",
       "std         0.071649       0.048899       0.062789       0.047461  \n",
       "min         0.000000       0.000000       0.000000       0.000000  \n",
       "25%         0.000000       0.000000       0.000000       0.000000  \n",
       "50%         0.000000       0.000000       0.000000       0.000000  \n",
       "75%         0.000000       0.000000       0.000000       0.000000  \n",
       "max         1.000000       1.000000       1.000000       1.000000  "
      ]
     },
     "execution_count": 10,
     "metadata": {},
     "output_type": "execute_result"
    }
   ],
   "source": [
    "train.describe()"
   ]
  },
  {
   "cell_type": "code",
   "execution_count": 11,
   "id": "d41bf6f8",
   "metadata": {
    "execution": {
     "iopub.execute_input": "2023-06-25T06:21:04.176283Z",
     "iopub.status.busy": "2023-06-25T06:21:04.175863Z",
     "iopub.status.idle": "2023-06-25T06:21:04.184355Z",
     "shell.execute_reply": "2023-06-25T06:21:04.183226Z"
    },
    "papermill": {
     "duration": 0.024008,
     "end_time": "2023-06-25T06:21:04.186631",
     "exception": false,
     "start_time": "2023-06-25T06:21:04.162623",
     "status": "completed"
    },
    "tags": []
   },
   "outputs": [
    {
     "data": {
      "text/plain": [
       "Product ID                  object\n",
       "Type                        object\n",
       "Air temperature [K]        float64\n",
       "Process temperature [K]    float64\n",
       "Rotational speed [rpm]       int64\n",
       "Torque [Nm]                float64\n",
       "Tool wear [min]              int64\n",
       "Machine failure              int64\n",
       "TWF                          int64\n",
       "HDF                          int64\n",
       "PWF                          int64\n",
       "OSF                          int64\n",
       "RNF                          int64\n",
       "dtype: object"
      ]
     },
     "execution_count": 11,
     "metadata": {},
     "output_type": "execute_result"
    }
   ],
   "source": [
    "train.dtypes"
   ]
  },
  {
   "cell_type": "code",
   "execution_count": 12,
   "id": "3a15a5de",
   "metadata": {
    "execution": {
     "iopub.execute_input": "2023-06-25T06:21:04.211988Z",
     "iopub.status.busy": "2023-06-25T06:21:04.211569Z",
     "iopub.status.idle": "2023-06-25T06:21:04.265581Z",
     "shell.execute_reply": "2023-06-25T06:21:04.264513Z"
    },
    "papermill": {
     "duration": 0.070094,
     "end_time": "2023-06-25T06:21:04.268441",
     "exception": false,
     "start_time": "2023-06-25T06:21:04.198347",
     "status": "completed"
    },
    "tags": []
   },
   "outputs": [],
   "source": [
    "train.drop([\"Product ID\"], axis = 1, inplace = True)\n",
    "test.drop([\"Product ID\"], axis = 1, inplace = True)\n",
    "\n",
    "train = pd.get_dummies(train, drop_first = True)\n",
    "test = pd.get_dummies(test, drop_first = True)"
   ]
  },
  {
   "attachments": {},
   "cell_type": "markdown",
   "id": "0e13a17b",
   "metadata": {
    "papermill": {
     "duration": 0.012753,
     "end_time": "2023-06-25T06:21:04.295782",
     "exception": false,
     "start_time": "2023-06-25T06:21:04.283029",
     "status": "completed"
    },
    "tags": []
   },
   "source": [
    "* * *\n",
    "# 🔎 <span style=\"color: DarkGreen; font-family:Times New Roman;\">EDA</span> <a name=\"eda\"></a>\n",
    "---\n"
   ]
  },
  {
   "attachments": {},
   "cell_type": "markdown",
   "id": "42c20281",
   "metadata": {
    "papermill": {
     "duration": 0.011977,
     "end_time": "2023-06-25T06:21:04.320070",
     "exception": false,
     "start_time": "2023-06-25T06:21:04.308093",
     "status": "completed"
    },
    "tags": []
   },
   "source": [
    "* * *\n",
    "# 🔎 <span style=\"color: DarkGreen; font-family:Times New Roman;\">Univariate Analysis</span> <a name=\"univariate-analysis\"></a>\n",
    "---\n"
   ]
  },
  {
   "cell_type": "code",
   "execution_count": 13,
   "id": "b2622a9f",
   "metadata": {
    "execution": {
     "iopub.execute_input": "2023-06-25T06:21:04.346358Z",
     "iopub.status.busy": "2023-06-25T06:21:04.344980Z",
     "iopub.status.idle": "2023-06-25T06:21:06.938066Z",
     "shell.execute_reply": "2023-06-25T06:21:06.936893Z"
    },
    "papermill": {
     "duration": 2.608945,
     "end_time": "2023-06-25T06:21:06.940828",
     "exception": false,
     "start_time": "2023-06-25T06:21:04.331883",
     "status": "completed"
    },
    "tags": []
   },
   "outputs": [
    {
     "data": {
      "image/png": "[encoded data removed]",
      "text/plain": [
       "<Figure size 1440x1440 with 16 Axes>"
      ]
     },
     "metadata": {
      "needs_background": "light"
     },
     "output_type": "display_data"
    }
   ],
   "source": [
    "train.hist(figsize = (20,20))\n",
    "plt.show()"
   ]
  },
  {
   "cell_type": "code",
   "execution_count": 14,
   "id": "23679e06",
   "metadata": {
    "execution": {
     "iopub.execute_input": "2023-06-25T06:21:06.971366Z",
     "iopub.status.busy": "2023-06-25T06:21:06.970309Z",
     "iopub.status.idle": "2023-06-25T06:21:09.052468Z",
     "shell.execute_reply": "2023-06-25T06:21:09.051339Z"
    },
    "papermill": {
     "duration": 2.100269,
     "end_time": "2023-06-25T06:21:09.055193",
     "exception": false,
     "start_time": "2023-06-25T06:21:06.954924",
     "status": "completed"
    },
    "tags": []
   },
   "outputs": [
    {
     "data": {
      "image/png": "[encoded data removed]",
      "text/plain": [
       "<Figure size 1440x1440 with 12 Axes>"
      ]
     },
     "metadata": {
      "needs_background": "light"
     },
     "output_type": "display_data"
    }
   ],
   "source": [
    "test.hist(figsize = (20,20))\n",
    "plt.show()"
   ]
  },
  {
   "attachments": {},
   "cell_type": "markdown",
   "id": "419ae526",
   "metadata": {
    "papermill": {
     "duration": 0.015909,
     "end_time": "2023-06-25T06:21:09.088180",
     "exception": false,
     "start_time": "2023-06-25T06:21:09.072271",
     "status": "completed"
    },
    "tags": []
   },
   "source": [
    "* * *\n",
    "# 🔎 <span style=\"color: DarkGreen; font-family:Times New Roman;\">Correlation Analysis</span> <a name=\"corr\"></a>\n",
    "---\n"
   ]
  },
  {
   "cell_type": "code",
   "execution_count": 15,
   "id": "83b00cf4",
   "metadata": {
    "execution": {
     "iopub.execute_input": "2023-06-25T06:21:09.122939Z",
     "iopub.status.busy": "2023-06-25T06:21:09.121989Z",
     "iopub.status.idle": "2023-06-25T06:21:09.237315Z",
     "shell.execute_reply": "2023-06-25T06:21:09.236119Z"
    },
    "papermill": {
     "duration": 0.135602,
     "end_time": "2023-06-25T06:21:09.239919",
     "exception": false,
     "start_time": "2023-06-25T06:21:09.104317",
     "status": "completed"
    },
    "tags": []
   },
   "outputs": [
    {
     "data": {
      "text/html": [
       "<div>\n",
       "<style scoped>\n",
       "    .dataframe tbody tr th:only-of-type {\n",
       "        vertical-align: middle;\n",
       "    }\n",
       "\n",
       "    .dataframe tbody tr th {\n",
       "        vertical-align: top;\n",
       "    }\n",
       "\n",
       "    .dataframe thead th {\n",
       "        text-align: right;\n",
       "    }\n",
       "</style>\n",
       "<table border=\"1\" class=\"dataframe\">\n",
       "  <thead>\n",
       "    <tr style=\"text-align: right;\">\n",
       "      <th></th>\n",
       "      <th>Air temperature [K]</th>\n",
       "      <th>Process temperature [K]</th>\n",
       "      <th>Rotational speed [rpm]</th>\n",
       "      <th>Torque [Nm]</th>\n",
       "      <th>Tool wear [min]</th>\n",
       "      <th>Machine failure</th>\n",
       "      <th>TWF</th>\n",
       "      <th>HDF</th>\n",
       "      <th>PWF</th>\n",
       "      <th>OSF</th>\n",
       "      <th>RNF</th>\n",
       "      <th>Type_L</th>\n",
       "      <th>Type_M</th>\n",
       "    </tr>\n",
       "  </thead>\n",
       "  <tbody>\n",
       "    <tr>\n",
       "      <th>Air temperature [K]</th>\n",
       "      <td>1.000000</td>\n",
       "      <td>0.856080</td>\n",
       "      <td>0.016545</td>\n",
       "      <td>-0.006773</td>\n",
       "      <td>0.016994</td>\n",
       "      <td>0.067744</td>\n",
       "      <td>0.003826</td>\n",
       "      <td>0.100454</td>\n",
       "      <td>0.007967</td>\n",
       "      <td>0.007842</td>\n",
       "      <td>0.004815</td>\n",
       "      <td>-0.003894</td>\n",
       "      <td>0.010296</td>\n",
       "    </tr>\n",
       "    <tr>\n",
       "      <th>Process temperature [K]</th>\n",
       "      <td>0.856080</td>\n",
       "      <td>1.000000</td>\n",
       "      <td>0.011263</td>\n",
       "      <td>-0.006298</td>\n",
       "      <td>0.012777</td>\n",
       "      <td>0.030966</td>\n",
       "      <td>0.004459</td>\n",
       "      <td>0.041454</td>\n",
       "      <td>0.003871</td>\n",
       "      <td>0.005337</td>\n",
       "      <td>0.004399</td>\n",
       "      <td>0.002116</td>\n",
       "      <td>0.001162</td>\n",
       "    </tr>\n",
       "    <tr>\n",
       "      <th>Rotational speed [rpm]</th>\n",
       "      <td>0.016545</td>\n",
       "      <td>0.011263</td>\n",
       "      <td>1.000000</td>\n",
       "      <td>-0.779394</td>\n",
       "      <td>0.003983</td>\n",
       "      <td>-0.060868</td>\n",
       "      <td>-0.005765</td>\n",
       "      <td>-0.081996</td>\n",
       "      <td>0.053948</td>\n",
       "      <td>-0.061376</td>\n",
       "      <td>-0.003410</td>\n",
       "      <td>-0.000340</td>\n",
       "      <td>-0.001246</td>\n",
       "    </tr>\n",
       "    <tr>\n",
       "      <th>Torque [Nm]</th>\n",
       "      <td>-0.006773</td>\n",
       "      <td>-0.006298</td>\n",
       "      <td>-0.779394</td>\n",
       "      <td>1.000000</td>\n",
       "      <td>-0.003148</td>\n",
       "      <td>0.145793</td>\n",
       "      <td>0.012983</td>\n",
       "      <td>0.100773</td>\n",
       "      <td>0.050289</td>\n",
       "      <td>0.108765</td>\n",
       "      <td>0.007986</td>\n",
       "      <td>0.000455</td>\n",
       "      <td>0.001082</td>\n",
       "    </tr>\n",
       "    <tr>\n",
       "      <th>Tool wear [min]</th>\n",
       "      <td>0.016994</td>\n",
       "      <td>0.012777</td>\n",
       "      <td>0.003983</td>\n",
       "      <td>-0.003148</td>\n",
       "      <td>1.000000</td>\n",
       "      <td>0.056448</td>\n",
       "      <td>0.046470</td>\n",
       "      <td>0.011709</td>\n",
       "      <td>0.007624</td>\n",
       "      <td>0.063604</td>\n",
       "      <td>-0.002071</td>\n",
       "      <td>-0.007025</td>\n",
       "      <td>0.006289</td>\n",
       "    </tr>\n",
       "    <tr>\n",
       "      <th>Machine failure</th>\n",
       "      <td>0.067744</td>\n",
       "      <td>0.030966</td>\n",
       "      <td>-0.060868</td>\n",
       "      <td>0.145793</td>\n",
       "      <td>0.056448</td>\n",
       "      <td>1.000000</td>\n",
       "      <td>0.311919</td>\n",
       "      <td>0.564507</td>\n",
       "      <td>0.383941</td>\n",
       "      <td>0.494668</td>\n",
       "      <td>0.001428</td>\n",
       "      <td>0.012028</td>\n",
       "      <td>-0.009603</td>\n",
       "    </tr>\n",
       "    <tr>\n",
       "      <th>TWF</th>\n",
       "      <td>0.003826</td>\n",
       "      <td>0.004459</td>\n",
       "      <td>-0.005765</td>\n",
       "      <td>0.012983</td>\n",
       "      <td>0.046470</td>\n",
       "      <td>0.311919</td>\n",
       "      <td>1.000000</td>\n",
       "      <td>0.010145</td>\n",
       "      <td>0.039927</td>\n",
       "      <td>0.036041</td>\n",
       "      <td>0.002044</td>\n",
       "      <td>-0.002910</td>\n",
       "      <td>0.001771</td>\n",
       "    </tr>\n",
       "    <tr>\n",
       "      <th>HDF</th>\n",
       "      <td>0.100454</td>\n",
       "      <td>0.041454</td>\n",
       "      <td>-0.081996</td>\n",
       "      <td>0.100773</td>\n",
       "      <td>0.011709</td>\n",
       "      <td>0.564507</td>\n",
       "      <td>0.010145</td>\n",
       "      <td>1.000000</td>\n",
       "      <td>0.046680</td>\n",
       "      <td>0.067149</td>\n",
       "      <td>0.000885</td>\n",
       "      <td>-0.003355</td>\n",
       "      <td>0.004842</td>\n",
       "    </tr>\n",
       "    <tr>\n",
       "      <th>PWF</th>\n",
       "      <td>0.007967</td>\n",
       "      <td>0.003871</td>\n",
       "      <td>0.053948</td>\n",
       "      <td>0.050289</td>\n",
       "      <td>0.007624</td>\n",
       "      <td>0.383941</td>\n",
       "      <td>0.039927</td>\n",
       "      <td>0.046680</td>\n",
       "      <td>1.000000</td>\n",
       "      <td>0.090016</td>\n",
       "      <td>0.000827</td>\n",
       "      <td>-0.001160</td>\n",
       "      <td>0.002803</td>\n",
       "    </tr>\n",
       "    <tr>\n",
       "      <th>OSF</th>\n",
       "      <td>0.007842</td>\n",
       "      <td>0.005337</td>\n",
       "      <td>-0.061376</td>\n",
       "      <td>0.108765</td>\n",
       "      <td>0.063604</td>\n",
       "      <td>0.494668</td>\n",
       "      <td>0.036041</td>\n",
       "      <td>0.067149</td>\n",
       "      <td>0.090016</td>\n",
       "      <td>1.000000</td>\n",
       "      <td>-0.000539</td>\n",
       "      <td>0.027886</td>\n",
       "      <td>-0.023726</td>\n",
       "    </tr>\n",
       "    <tr>\n",
       "      <th>RNF</th>\n",
       "      <td>0.004815</td>\n",
       "      <td>0.004399</td>\n",
       "      <td>-0.003410</td>\n",
       "      <td>0.007986</td>\n",
       "      <td>-0.002071</td>\n",
       "      <td>0.001428</td>\n",
       "      <td>0.002044</td>\n",
       "      <td>0.000885</td>\n",
       "      <td>0.000827</td>\n",
       "      <td>-0.000539</td>\n",
       "      <td>1.000000</td>\n",
       "      <td>-0.001101</td>\n",
       "      <td>0.001970</td>\n",
       "    </tr>\n",
       "    <tr>\n",
       "      <th>Type_L</th>\n",
       "      <td>-0.003894</td>\n",
       "      <td>0.002116</td>\n",
       "      <td>-0.000340</td>\n",
       "      <td>0.000455</td>\n",
       "      <td>-0.007025</td>\n",
       "      <td>0.012028</td>\n",
       "      <td>-0.002910</td>\n",
       "      <td>-0.003355</td>\n",
       "      <td>-0.001160</td>\n",
       "      <td>0.027886</td>\n",
       "      <td>-0.001101</td>\n",
       "      <td>1.000000</td>\n",
       "      <td>-0.846039</td>\n",
       "    </tr>\n",
       "    <tr>\n",
       "      <th>Type_M</th>\n",
       "      <td>0.010296</td>\n",
       "      <td>0.001162</td>\n",
       "      <td>-0.001246</td>\n",
       "      <td>0.001082</td>\n",
       "      <td>0.006289</td>\n",
       "      <td>-0.009603</td>\n",
       "      <td>0.001771</td>\n",
       "      <td>0.004842</td>\n",
       "      <td>0.002803</td>\n",
       "      <td>-0.023726</td>\n",
       "      <td>0.001970</td>\n",
       "      <td>-0.846039</td>\n",
       "      <td>1.000000</td>\n",
       "    </tr>\n",
       "  </tbody>\n",
       "</table>\n",
       "</div>"
      ],
      "text/plain": [
       "                         Air temperature [K]  Process temperature [K]  \\\n",
       "Air temperature [K]                 1.000000                 0.856080   \n",
       "Process temperature [K]             0.856080                 1.000000   \n",
       "Rotational speed [rpm]              0.016545                 0.011263   \n",
       "Torque [Nm]                        -0.006773                -0.006298   \n",
       "Tool wear [min]                     0.016994                 0.012777   \n",
       "Machine failure                     0.067744                 0.030966   \n",
       "TWF                                 0.003826                 0.004459   \n",
       "HDF                                 0.100454                 0.041454   \n",
       "PWF                                 0.007967                 0.003871   \n",
       "OSF                                 0.007842                 0.005337   \n",
       "RNF                                 0.004815                 0.004399   \n",
       "Type_L                             -0.003894                 0.002116   \n",
       "Type_M                              0.010296                 0.001162   \n",
       "\n",
       "                         Rotational speed [rpm]  Torque [Nm]  Tool wear [min]  \\\n",
       "Air temperature [K]                    0.016545    -0.006773         0.016994   \n",
       "Process temperature [K]                0.011263    -0.006298         0.012777   \n",
       "Rotational speed [rpm]                 1.000000    -0.779394         0.003983   \n",
       "Torque [Nm]                           -0.779394     1.000000        -0.003148   \n",
       "Tool wear [min]                        0.003983    -0.003148         1.000000   \n",
       "Machine failure                       -0.060868     0.145793         0.056448   \n",
       "TWF                                   -0.005765     0.012983         0.046470   \n",
       "HDF                                   -0.081996     0.100773         0.011709   \n",
       "PWF                                    0.053948     0.050289         0.007624   \n",
       "OSF                                   -0.061376     0.108765         0.063604   \n",
       "RNF                                   -0.003410     0.007986        -0.002071   \n",
       "Type_L                                -0.000340     0.000455        -0.007025   \n",
       "Type_M                                -0.001246     0.001082         0.006289   \n",
       "\n",
       "                         Machine failure       TWF       HDF       PWF  \\\n",
       "Air temperature [K]             0.067744  0.003826  0.100454  0.007967   \n",
       "Process temperature [K]         0.030966  0.004459  0.041454  0.003871   \n",
       "Rotational speed [rpm]         -0.060868 -0.005765 -0.081996  0.053948   \n",
       "Torque [Nm]                     0.145793  0.012983  0.100773  0.050289   \n",
       "Tool wear [min]                 0.056448  0.046470  0.011709  0.007624   \n",
       "Machine failure                 1.000000  0.311919  0.564507  0.383941   \n",
       "TWF                             0.311919  1.000000  0.010145  0.039927   \n",
       "HDF                             0.564507  0.010145  1.000000  0.046680   \n",
       "PWF                             0.383941  0.039927  0.046680  1.000000   \n",
       "OSF                             0.494668  0.036041  0.067149  0.090016   \n",
       "RNF                             0.001428  0.002044  0.000885  0.000827   \n",
       "Type_L                          0.012028 -0.002910 -0.003355 -0.001160   \n",
       "Type_M                         -0.009603  0.001771  0.004842  0.002803   \n",
       "\n",
       "                              OSF       RNF    Type_L    Type_M  \n",
       "Air temperature [K]      0.007842  0.004815 -0.003894  0.010296  \n",
       "Process temperature [K]  0.005337  0.004399  0.002116  0.001162  \n",
       "Rotational speed [rpm]  -0.061376 -0.003410 -0.000340 -0.001246  \n",
       "Torque [Nm]              0.108765  0.007986  0.000455  0.001082  \n",
       "Tool wear [min]          0.063604 -0.002071 -0.007025  0.006289  \n",
       "Machine failure          0.494668  0.001428  0.012028 -0.009603  \n",
       "TWF                      0.036041  0.002044 -0.002910  0.001771  \n",
       "HDF                      0.067149  0.000885 -0.003355  0.004842  \n",
       "PWF                      0.090016  0.000827 -0.001160  0.002803  \n",
       "OSF                      1.000000 -0.000539  0.027886 -0.023726  \n",
       "RNF                     -0.000539  1.000000 -0.001101  0.001970  \n",
       "Type_L                   0.027886 -0.001101  1.000000 -0.846039  \n",
       "Type_M                  -0.023726  0.001970 -0.846039  1.000000  "
      ]
     },
     "execution_count": 15,
     "metadata": {},
     "output_type": "execute_result"
    }
   ],
   "source": [
    "train.corr()"
   ]
  },
  {
   "cell_type": "code",
   "execution_count": 16,
   "id": "1bba0270",
   "metadata": {
    "execution": {
     "iopub.execute_input": "2023-06-25T06:21:09.276036Z",
     "iopub.status.busy": "2023-06-25T06:21:09.275147Z",
     "iopub.status.idle": "2023-06-25T06:21:10.148197Z",
     "shell.execute_reply": "2023-06-25T06:21:10.147077Z"
    },
    "papermill": {
     "duration": 0.895829,
     "end_time": "2023-06-25T06:21:10.152585",
     "exception": false,
     "start_time": "2023-06-25T06:21:09.256756",
     "status": "completed"
    },
    "tags": []
   },
   "outputs": [
    {
     "data": {
      "image/png": "[encoded data removed]",
      "text/plain": [
       "<Figure size 1440x720 with 2 Axes>"
      ]
     },
     "metadata": {
      "needs_background": "light"
     },
     "output_type": "display_data"
    }
   ],
   "source": [
    "fig, axes = plt.subplots(figsize=(20, 10))\n",
    "sns.heatmap(train.corr() , cmap = sns.cubehelix_palette(as_cmap=True), mask=np.triu(train.corr()), linewidths=.5, cbar_kws={\"shrink\": .5}, annot = True)\n",
    "plt.show()"
   ]
  },
  {
   "cell_type": "code",
   "execution_count": 17,
   "id": "9718bf52",
   "metadata": {
    "execution": {
     "iopub.execute_input": "2023-06-25T06:21:10.199687Z",
     "iopub.status.busy": "2023-06-25T06:21:10.199261Z",
     "iopub.status.idle": "2023-06-25T06:21:10.286074Z",
     "shell.execute_reply": "2023-06-25T06:21:10.285177Z"
    },
    "papermill": {
     "duration": 0.112122,
     "end_time": "2023-06-25T06:21:10.288603",
     "exception": false,
     "start_time": "2023-06-25T06:21:10.176481",
     "status": "completed"
    },
    "tags": []
   },
   "outputs": [
    {
     "data": {
      "text/plain": [
       "Machine failure            1.000000\n",
       "HDF                        0.564507\n",
       "OSF                        0.494668\n",
       "PWF                        0.383941\n",
       "TWF                        0.311919\n",
       "Torque [Nm]                0.145793\n",
       "Air temperature [K]        0.067744\n",
       "Tool wear [min]            0.056448\n",
       "Process temperature [K]    0.030966\n",
       "Type_L                     0.012028\n",
       "RNF                        0.001428\n",
       "Type_M                    -0.009603\n",
       "Rotational speed [rpm]    -0.060868\n",
       "Name: Machine failure, dtype: float64"
      ]
     },
     "execution_count": 17,
     "metadata": {},
     "output_type": "execute_result"
    }
   ],
   "source": [
    "train.corr()[\"Machine failure\"].sort_values(ascending = False)"
   ]
  },
  {
   "cell_type": "code",
   "execution_count": 18,
   "id": "c0540f86",
   "metadata": {
    "execution": {
     "iopub.execute_input": "2023-06-25T06:21:10.327439Z",
     "iopub.status.busy": "2023-06-25T06:21:10.326664Z",
     "iopub.status.idle": "2023-06-25T06:21:10.392236Z",
     "shell.execute_reply": "2023-06-25T06:21:10.391063Z"
    },
    "papermill": {
     "duration": 0.087643,
     "end_time": "2023-06-25T06:21:10.394569",
     "exception": false,
     "start_time": "2023-06-25T06:21:10.306926",
     "status": "completed"
    },
    "tags": []
   },
   "outputs": [
    {
     "data": {
      "text/html": [
       "<div>\n",
       "<style scoped>\n",
       "    .dataframe tbody tr th:only-of-type {\n",
       "        vertical-align: middle;\n",
       "    }\n",
       "\n",
       "    .dataframe tbody tr th {\n",
       "        vertical-align: top;\n",
       "    }\n",
       "\n",
       "    .dataframe thead th {\n",
       "        text-align: right;\n",
       "    }\n",
       "</style>\n",
       "<table border=\"1\" class=\"dataframe\">\n",
       "  <thead>\n",
       "    <tr style=\"text-align: right;\">\n",
       "      <th></th>\n",
       "      <th>Air temperature [K]</th>\n",
       "      <th>Process temperature [K]</th>\n",
       "      <th>Rotational speed [rpm]</th>\n",
       "      <th>Torque [Nm]</th>\n",
       "      <th>Tool wear [min]</th>\n",
       "      <th>TWF</th>\n",
       "      <th>HDF</th>\n",
       "      <th>PWF</th>\n",
       "      <th>OSF</th>\n",
       "      <th>RNF</th>\n",
       "      <th>Type_L</th>\n",
       "      <th>Type_M</th>\n",
       "    </tr>\n",
       "  </thead>\n",
       "  <tbody>\n",
       "    <tr>\n",
       "      <th>Air temperature [K]</th>\n",
       "      <td>1.000000</td>\n",
       "      <td>0.855972</td>\n",
       "      <td>0.012901</td>\n",
       "      <td>-0.004892</td>\n",
       "      <td>0.018447</td>\n",
       "      <td>0.008893</td>\n",
       "      <td>0.103498</td>\n",
       "      <td>0.003869</td>\n",
       "      <td>0.012608</td>\n",
       "      <td>0.001752</td>\n",
       "      <td>-0.006797</td>\n",
       "      <td>0.007685</td>\n",
       "    </tr>\n",
       "    <tr>\n",
       "      <th>Process temperature [K]</th>\n",
       "      <td>0.855972</td>\n",
       "      <td>1.000000</td>\n",
       "      <td>0.008324</td>\n",
       "      <td>-0.006220</td>\n",
       "      <td>0.014616</td>\n",
       "      <td>0.009710</td>\n",
       "      <td>0.043706</td>\n",
       "      <td>-0.002658</td>\n",
       "      <td>0.012992</td>\n",
       "      <td>0.006868</td>\n",
       "      <td>0.004260</td>\n",
       "      <td>-0.007286</td>\n",
       "    </tr>\n",
       "    <tr>\n",
       "      <th>Rotational speed [rpm]</th>\n",
       "      <td>0.012901</td>\n",
       "      <td>0.008324</td>\n",
       "      <td>1.000000</td>\n",
       "      <td>-0.777272</td>\n",
       "      <td>0.008849</td>\n",
       "      <td>-0.009013</td>\n",
       "      <td>-0.087204</td>\n",
       "      <td>0.050574</td>\n",
       "      <td>-0.061990</td>\n",
       "      <td>-0.001525</td>\n",
       "      <td>-0.003683</td>\n",
       "      <td>-0.000619</td>\n",
       "    </tr>\n",
       "    <tr>\n",
       "      <th>Torque [Nm]</th>\n",
       "      <td>-0.004892</td>\n",
       "      <td>-0.006220</td>\n",
       "      <td>-0.777272</td>\n",
       "      <td>1.000000</td>\n",
       "      <td>-0.004352</td>\n",
       "      <td>0.018059</td>\n",
       "      <td>0.103822</td>\n",
       "      <td>0.049382</td>\n",
       "      <td>0.109182</td>\n",
       "      <td>0.002807</td>\n",
       "      <td>0.007246</td>\n",
       "      <td>-0.003347</td>\n",
       "    </tr>\n",
       "    <tr>\n",
       "      <th>Tool wear [min]</th>\n",
       "      <td>0.018447</td>\n",
       "      <td>0.014616</td>\n",
       "      <td>0.008849</td>\n",
       "      <td>-0.004352</td>\n",
       "      <td>1.000000</td>\n",
       "      <td>0.043164</td>\n",
       "      <td>0.002014</td>\n",
       "      <td>0.002967</td>\n",
       "      <td>0.066720</td>\n",
       "      <td>-0.002936</td>\n",
       "      <td>-0.000384</td>\n",
       "      <td>0.000017</td>\n",
       "    </tr>\n",
       "    <tr>\n",
       "      <th>TWF</th>\n",
       "      <td>0.008893</td>\n",
       "      <td>0.009710</td>\n",
       "      <td>-0.009013</td>\n",
       "      <td>0.018059</td>\n",
       "      <td>0.043164</td>\n",
       "      <td>1.000000</td>\n",
       "      <td>0.008981</td>\n",
       "      <td>0.033634</td>\n",
       "      <td>0.057624</td>\n",
       "      <td>0.004125</td>\n",
       "      <td>0.000336</td>\n",
       "      <td>0.000184</td>\n",
       "    </tr>\n",
       "    <tr>\n",
       "      <th>HDF</th>\n",
       "      <td>0.103498</td>\n",
       "      <td>0.043706</td>\n",
       "      <td>-0.087204</td>\n",
       "      <td>0.103822</td>\n",
       "      <td>0.002014</td>\n",
       "      <td>0.008981</td>\n",
       "      <td>1.000000</td>\n",
       "      <td>0.027568</td>\n",
       "      <td>0.053726</td>\n",
       "      <td>0.002759</td>\n",
       "      <td>0.001322</td>\n",
       "      <td>0.000330</td>\n",
       "    </tr>\n",
       "    <tr>\n",
       "      <th>PWF</th>\n",
       "      <td>0.003869</td>\n",
       "      <td>-0.002658</td>\n",
       "      <td>0.050574</td>\n",
       "      <td>0.049382</td>\n",
       "      <td>0.002967</td>\n",
       "      <td>0.033634</td>\n",
       "      <td>0.027568</td>\n",
       "      <td>1.000000</td>\n",
       "      <td>0.095655</td>\n",
       "      <td>0.002392</td>\n",
       "      <td>0.004812</td>\n",
       "      <td>-0.001958</td>\n",
       "    </tr>\n",
       "    <tr>\n",
       "      <th>OSF</th>\n",
       "      <td>0.012608</td>\n",
       "      <td>0.012992</td>\n",
       "      <td>-0.061990</td>\n",
       "      <td>0.109182</td>\n",
       "      <td>0.066720</td>\n",
       "      <td>0.057624</td>\n",
       "      <td>0.053726</td>\n",
       "      <td>0.095655</td>\n",
       "      <td>1.000000</td>\n",
       "      <td>-0.002998</td>\n",
       "      <td>0.027558</td>\n",
       "      <td>-0.023053</td>\n",
       "    </tr>\n",
       "    <tr>\n",
       "      <th>RNF</th>\n",
       "      <td>0.001752</td>\n",
       "      <td>0.006868</td>\n",
       "      <td>-0.001525</td>\n",
       "      <td>0.002807</td>\n",
       "      <td>-0.002936</td>\n",
       "      <td>0.004125</td>\n",
       "      <td>0.002759</td>\n",
       "      <td>0.002392</td>\n",
       "      <td>-0.002998</td>\n",
       "      <td>1.000000</td>\n",
       "      <td>0.001262</td>\n",
       "      <td>-0.003622</td>\n",
       "    </tr>\n",
       "    <tr>\n",
       "      <th>Type_L</th>\n",
       "      <td>-0.006797</td>\n",
       "      <td>0.004260</td>\n",
       "      <td>-0.003683</td>\n",
       "      <td>0.007246</td>\n",
       "      <td>-0.000384</td>\n",
       "      <td>0.000336</td>\n",
       "      <td>0.001322</td>\n",
       "      <td>0.004812</td>\n",
       "      <td>0.027558</td>\n",
       "      <td>0.001262</td>\n",
       "      <td>1.000000</td>\n",
       "      <td>-0.845698</td>\n",
       "    </tr>\n",
       "    <tr>\n",
       "      <th>Type_M</th>\n",
       "      <td>0.007685</td>\n",
       "      <td>-0.007286</td>\n",
       "      <td>-0.000619</td>\n",
       "      <td>-0.003347</td>\n",
       "      <td>0.000017</td>\n",
       "      <td>0.000184</td>\n",
       "      <td>0.000330</td>\n",
       "      <td>-0.001958</td>\n",
       "      <td>-0.023053</td>\n",
       "      <td>-0.003622</td>\n",
       "      <td>-0.845698</td>\n",
       "      <td>1.000000</td>\n",
       "    </tr>\n",
       "  </tbody>\n",
       "</table>\n",
       "</div>"
      ],
      "text/plain": [
       "                         Air temperature [K]  Process temperature [K]  \\\n",
       "Air temperature [K]                 1.000000                 0.855972   \n",
       "Process temperature [K]             0.855972                 1.000000   \n",
       "Rotational speed [rpm]              0.012901                 0.008324   \n",
       "Torque [Nm]                        -0.004892                -0.006220   \n",
       "Tool wear [min]                     0.018447                 0.014616   \n",
       "TWF                                 0.008893                 0.009710   \n",
       "HDF                                 0.103498                 0.043706   \n",
       "PWF                                 0.003869                -0.002658   \n",
       "OSF                                 0.012608                 0.012992   \n",
       "RNF                                 0.001752                 0.006868   \n",
       "Type_L                             -0.006797                 0.004260   \n",
       "Type_M                              0.007685                -0.007286   \n",
       "\n",
       "                         Rotational speed [rpm]  Torque [Nm]  Tool wear [min]  \\\n",
       "Air temperature [K]                    0.012901    -0.004892         0.018447   \n",
       "Process temperature [K]                0.008324    -0.006220         0.014616   \n",
       "Rotational speed [rpm]                 1.000000    -0.777272         0.008849   \n",
       "Torque [Nm]                           -0.777272     1.000000        -0.004352   \n",
       "Tool wear [min]                        0.008849    -0.004352         1.000000   \n",
       "TWF                                   -0.009013     0.018059         0.043164   \n",
       "HDF                                   -0.087204     0.103822         0.002014   \n",
       "PWF                                    0.050574     0.049382         0.002967   \n",
       "OSF                                   -0.061990     0.109182         0.066720   \n",
       "RNF                                   -0.001525     0.002807        -0.002936   \n",
       "Type_L                                -0.003683     0.007246        -0.000384   \n",
       "Type_M                                -0.000619    -0.003347         0.000017   \n",
       "\n",
       "                              TWF       HDF       PWF       OSF       RNF  \\\n",
       "Air temperature [K]      0.008893  0.103498  0.003869  0.012608  0.001752   \n",
       "Process temperature [K]  0.009710  0.043706 -0.002658  0.012992  0.006868   \n",
       "Rotational speed [rpm]  -0.009013 -0.087204  0.050574 -0.061990 -0.001525   \n",
       "Torque [Nm]              0.018059  0.103822  0.049382  0.109182  0.002807   \n",
       "Tool wear [min]          0.043164  0.002014  0.002967  0.066720 -0.002936   \n",
       "TWF                      1.000000  0.008981  0.033634  0.057624  0.004125   \n",
       "HDF                      0.008981  1.000000  0.027568  0.053726  0.002759   \n",
       "PWF                      0.033634  0.027568  1.000000  0.095655  0.002392   \n",
       "OSF                      0.057624  0.053726  0.095655  1.000000 -0.002998   \n",
       "RNF                      0.004125  0.002759  0.002392 -0.002998  1.000000   \n",
       "Type_L                   0.000336  0.001322  0.004812  0.027558  0.001262   \n",
       "Type_M                   0.000184  0.000330 -0.001958 -0.023053 -0.003622   \n",
       "\n",
       "                           Type_L    Type_M  \n",
       "Air temperature [K]     -0.006797  0.007685  \n",
       "Process temperature [K]  0.004260 -0.007286  \n",
       "Rotational speed [rpm]  -0.003683 -0.000619  \n",
       "Torque [Nm]              0.007246 -0.003347  \n",
       "Tool wear [min]         -0.000384  0.000017  \n",
       "TWF                      0.000336  0.000184  \n",
       "HDF                      0.001322  0.000330  \n",
       "PWF                      0.004812 -0.001958  \n",
       "OSF                      0.027558 -0.023053  \n",
       "RNF                      0.001262 -0.003622  \n",
       "Type_L                   1.000000 -0.845698  \n",
       "Type_M                  -0.845698  1.000000  "
      ]
     },
     "execution_count": 18,
     "metadata": {},
     "output_type": "execute_result"
    }
   ],
   "source": [
    "test.corr()"
   ]
  },
  {
   "cell_type": "code",
   "execution_count": 19,
   "id": "56f36907",
   "metadata": {
    "execution": {
     "iopub.execute_input": "2023-06-25T06:21:10.434140Z",
     "iopub.status.busy": "2023-06-25T06:21:10.433735Z",
     "iopub.status.idle": "2023-06-25T06:21:11.151702Z",
     "shell.execute_reply": "2023-06-25T06:21:11.150379Z"
    },
    "papermill": {
     "duration": 0.741028,
     "end_time": "2023-06-25T06:21:11.154407",
     "exception": false,
     "start_time": "2023-06-25T06:21:10.413379",
     "status": "completed"
    },
    "tags": []
   },
   "outputs": [
    {
     "data": {
      "image/png": "[encoded data removed]",
      "text/plain": [
       "<Figure size 1440x720 with 2 Axes>"
      ]
     },
     "metadata": {
      "needs_background": "light"
     },
     "output_type": "display_data"
    }
   ],
   "source": [
    "fig, axes = plt.subplots(figsize=(20, 10))\n",
    "sns.heatmap(test.corr() , cmap = sns.cubehelix_palette(as_cmap=True), mask=np.triu(test.corr()), linewidths=.5, cbar_kws={\"shrink\": .5}, annot = True)\n",
    "plt.show()"
   ]
  },
  {
   "attachments": {},
   "cell_type": "markdown",
   "id": "485f44a1",
   "metadata": {
    "papermill": {
     "duration": 0.021112,
     "end_time": "2023-06-25T06:21:11.197004",
     "exception": false,
     "start_time": "2023-06-25T06:21:11.175892",
     "status": "completed"
    },
    "tags": []
   },
   "source": [
    "* * *\n",
    "# ⚙️ <span style=\"color: DarkGreen; font-family:Times New Roman;\">Feature Engineering</span> <a name=\"feature-engineering\"></a>\n",
    "---\n"
   ]
  },
  {
   "attachments": {},
   "cell_type": "markdown",
   "id": "f4152dd8",
   "metadata": {
    "papermill": {
     "duration": 0.020574,
     "end_time": "2023-06-25T06:21:11.238931",
     "exception": false,
     "start_time": "2023-06-25T06:21:11.218357",
     "status": "completed"
    },
    "tags": []
   },
   "source": [
    "* * *\n",
    "# ⚙️ <span style=\"color: DarkGreen; font-family:Times New Roman;\">Dimensionality Reduction</span> <a name=\"dimensionality-reduction\"></a>\n",
    "---\n"
   ]
  },
  {
   "cell_type": "code",
   "execution_count": null,
   "id": "e00e8f87",
   "metadata": {
    "papermill": {
     "duration": 0.020663,
     "end_time": "2023-06-25T06:21:11.280576",
     "exception": false,
     "start_time": "2023-06-25T06:21:11.259913",
     "status": "completed"
    },
    "tags": []
   },
   "outputs": [],
   "source": []
  },
  {
   "attachments": {},
   "cell_type": "markdown",
   "id": "7e50fa8d",
   "metadata": {
    "papermill": {
     "duration": 0.020552,
     "end_time": "2023-06-25T06:21:11.322071",
     "exception": false,
     "start_time": "2023-06-25T06:21:11.301519",
     "status": "completed"
    },
    "tags": []
   },
   "source": [
    "* * *\n",
    "# ⚙️ <span style=\"color: DarkGreen; font-family:Times New Roman;\">Standardization</span> <a name=\"standardization\"></a>\n",
    "---\n"
   ]
  },
  {
   "cell_type": "code",
   "execution_count": 20,
   "id": "adef5c69",
   "metadata": {
    "execution": {
     "iopub.execute_input": "2023-06-25T06:21:11.365696Z",
     "iopub.status.busy": "2023-06-25T06:21:11.365027Z",
     "iopub.status.idle": "2023-06-25T06:21:11.371620Z",
     "shell.execute_reply": "2023-06-25T06:21:11.370517Z"
    },
    "papermill": {
     "duration": 0.030852,
     "end_time": "2023-06-25T06:21:11.373813",
     "exception": false,
     "start_time": "2023-06-25T06:21:11.342961",
     "status": "completed"
    },
    "tags": []
   },
   "outputs": [],
   "source": [
    "def scaling(feature):\n",
    "    global X_train, X_test\n",
    "    scaler = MinMaxScaler()\n",
    "    scaler.fit\n",
    "    scaler.fit(X_train[feature].to_numpy().reshape(-1,1))\n",
    "    X_train[feature] = scaler.transform(X_train[feature].to_numpy().reshape(-1,1))\n",
    "    X_test[feature] = scaler.transform(X_test[feature].to_numpy().reshape(-1,1))"
   ]
  },
  {
   "cell_type": "code",
   "execution_count": 21,
   "id": "b9c291b6",
   "metadata": {
    "execution": {
     "iopub.execute_input": "2023-06-25T06:21:11.420833Z",
     "iopub.status.busy": "2023-06-25T06:21:11.420193Z",
     "iopub.status.idle": "2023-06-25T06:21:11.427341Z",
     "shell.execute_reply": "2023-06-25T06:21:11.425816Z"
    },
    "papermill": {
     "duration": 0.035076,
     "end_time": "2023-06-25T06:21:11.429916",
     "exception": false,
     "start_time": "2023-06-25T06:21:11.394840",
     "status": "completed"
    },
    "tags": []
   },
   "outputs": [],
   "source": [
    "scale_needed_features = [ \"Air temperature [K]\", \"Process temperature [K]\", \"Rotational speed [rpm]\", \"Torque [Nm]\", \"Tool wear [min]\"]"
   ]
  },
  {
   "attachments": {},
   "cell_type": "markdown",
   "id": "13f49b82",
   "metadata": {
    "papermill": {
     "duration": 0.020948,
     "end_time": "2023-06-25T06:21:11.472036",
     "exception": false,
     "start_time": "2023-06-25T06:21:11.451088",
     "status": "completed"
    },
    "tags": []
   },
   "source": [
    "* * *\n",
    "# 🧑‍🔬 <span style=\"color: DarkGreen; font-family:Times New Roman;\">Model Selection</span> <a name=\"model-selection\"></a>\n",
    "---\n"
   ]
  },
  {
   "cell_type": "code",
   "execution_count": 22,
   "id": "f198ba2f",
   "metadata": {
    "execution": {
     "iopub.execute_input": "2023-06-25T06:21:11.516355Z",
     "iopub.status.busy": "2023-06-25T06:21:11.515941Z",
     "iopub.status.idle": "2023-06-25T06:21:11.533459Z",
     "shell.execute_reply": "2023-06-25T06:21:11.532201Z"
    },
    "papermill": {
     "duration": 0.042849,
     "end_time": "2023-06-25T06:21:11.536040",
     "exception": false,
     "start_time": "2023-06-25T06:21:11.493191",
     "status": "completed"
    },
    "tags": []
   },
   "outputs": [],
   "source": [
    "X = train.drop([\"Machine failure\"], axis = 1)\n",
    "y = train[[\"Machine failure\"]]"
   ]
  },
  {
   "attachments": {},
   "cell_type": "markdown",
   "id": "0d272fc8",
   "metadata": {
    "papermill": {
     "duration": 0.020736,
     "end_time": "2023-06-25T06:21:11.578230",
     "exception": false,
     "start_time": "2023-06-25T06:21:11.557494",
     "status": "completed"
    },
    "tags": []
   },
   "source": [
    "\n",
    "* * *\n",
    "## 🧑‍🔬 <span style=\"color: DarkGreen; font-family:Times New Roman;\">LogisticRegression</span> <a name=\"model-selection\"></a>\n",
    "---\n"
   ]
  },
  {
   "cell_type": "code",
   "execution_count": 23,
   "id": "c0136edd",
   "metadata": {
    "execution": {
     "iopub.execute_input": "2023-06-25T06:21:11.622898Z",
     "iopub.status.busy": "2023-06-25T06:21:11.621844Z",
     "iopub.status.idle": "2023-06-25T06:21:14.625620Z",
     "shell.execute_reply": "2023-06-25T06:21:14.624493Z"
    },
    "papermill": {
     "duration": 3.029963,
     "end_time": "2023-06-25T06:21:14.629185",
     "exception": false,
     "start_time": "2023-06-25T06:21:11.599222",
     "status": "completed"
    },
    "tags": []
   },
   "outputs": [
    {
     "name": "stdout",
     "output_type": "stream",
     "text": [
      "0.8796569750741433\n",
      "0.8808589793625873\n",
      "0.8790375893955669\n",
      "0.8806934199773233\n",
      "0.8839231264464941\n"
     ]
    }
   ],
   "source": [
    "lr_roc_auc_scores = []\n",
    "\n",
    "kfold = KFold(n_splits = folds)\n",
    "\n",
    "for train_index, test_index in kfold.split(X):\n",
    "    X_train, y_train = X.loc[train_index,:].copy(), y.loc[train_index,:].copy()\n",
    "    X_test, y_test = X.loc[train_index,:].copy(), y.loc[train_index,:].copy()\n",
    "    for feature in scale_needed_features:\n",
    "        scaling(feature)\n",
    "    lr = LogisticRegression(random_state = RS)        \n",
    "    lr.fit(X_train, y_train.values.ravel())\n",
    "    lr_prediction = lr.predict(X_test)\n",
    "    lr_roc_auc_scores.append(roc_auc_score(y_test,lr_prediction,average = \"weighted\" ))\n",
    "    print(roc_auc_score(y_test,lr_prediction,average = \"weighted\" ))"
   ]
  },
  {
   "attachments": {},
   "cell_type": "markdown",
   "id": "c58965db",
   "metadata": {
    "papermill": {
     "duration": 0.025896,
     "end_time": "2023-06-25T06:21:14.690918",
     "exception": false,
     "start_time": "2023-06-25T06:21:14.665022",
     "status": "completed"
    },
    "tags": []
   },
   "source": [
    "\n",
    "* * *\n",
    "## 🧑‍🔬 <span style=\"color: DarkGreen; font-family:Times New Roman;\">RandomForestClassifier</span> <a name=\"model-selection\"></a>\n",
    "---\n"
   ]
  },
  {
   "cell_type": "code",
   "execution_count": 24,
   "id": "858eb7e8",
   "metadata": {
    "execution": {
     "iopub.execute_input": "2023-06-25T06:21:14.735756Z",
     "iopub.status.busy": "2023-06-25T06:21:14.735393Z",
     "iopub.status.idle": "2023-06-25T06:23:10.763581Z",
     "shell.execute_reply": "2023-06-25T06:23:10.762179Z"
    },
    "papermill": {
     "duration": 116.053808,
     "end_time": "2023-06-25T06:23:10.766129",
     "exception": false,
     "start_time": "2023-06-25T06:21:14.712321",
     "status": "completed"
    },
    "tags": []
   },
   "outputs": [
    {
     "name": "stdout",
     "output_type": "stream",
     "text": [
      "0.9959858421550876\n",
      "0.9955580693188801\n",
      "0.9953084862033158\n",
      "0.9967818475733289\n",
      "0.9979452209632141\n"
     ]
    }
   ],
   "source": [
    "rf_roc_auc_scores = []\n",
    "\n",
    "kfold = KFold(n_splits = folds)\n",
    "\n",
    "for train_index, test_index in kfold.split(X):\n",
    "    X_train, y_train = X.loc[train_index,:].copy(), y.loc[train_index,:].copy()\n",
    "    X_test, y_test = X.loc[train_index,:].copy(), y.loc[train_index,:].copy()\n",
    "    for feature in scale_needed_features:\n",
    "        scaling(feature)\n",
    "    rf = RandomForestClassifier(random_state = RS)        \n",
    "    rf.fit(X_train, y_train.values.ravel())\n",
    "    rf_prediction = rf.predict(X_test)\n",
    "    rf_roc_auc_scores.append(roc_auc_score(y_test,rf_prediction,average = \"weighted\" ))\n",
    "    print(roc_auc_score(y_test,rf_prediction,average = \"weighted\" ))"
   ]
  },
  {
   "attachments": {},
   "cell_type": "markdown",
   "id": "ec3b4f25",
   "metadata": {
    "papermill": {
     "duration": 0.021998,
     "end_time": "2023-06-25T06:23:10.809739",
     "exception": false,
     "start_time": "2023-06-25T06:23:10.787741",
     "status": "completed"
    },
    "tags": []
   },
   "source": [
    "# Simple NN"
   ]
  },
  {
   "cell_type": "code",
   "execution_count": 25,
   "id": "51469a10",
   "metadata": {
    "execution": {
     "iopub.execute_input": "2023-06-25T06:23:10.855299Z",
     "iopub.status.busy": "2023-06-25T06:23:10.854490Z",
     "iopub.status.idle": "2023-06-25T06:23:10.861724Z",
     "shell.execute_reply": "2023-06-25T06:23:10.860931Z"
    },
    "papermill": {
     "duration": 0.032735,
     "end_time": "2023-06-25T06:23:10.864058",
     "exception": false,
     "start_time": "2023-06-25T06:23:10.831323",
     "status": "completed"
    },
    "tags": []
   },
   "outputs": [],
   "source": [
    "def build_simple_nn():\n",
    "    model = tf.keras.Sequential()\n",
    "    model.add(tf.keras.layers.Dense(100, input_shape =(X_train.shape[1],), activation = \"relu\" ))\n",
    "    model.add(tf.keras.layers.Dense(20, activation = \"relu\" ))\n",
    "    model.add(tf.keras.layers.Dropout(0.2))\n",
    "    model.add(tf.keras.layers.Dense(20, activation = \"relu\" ))\n",
    "    model.add(tf.keras.layers.Dense(1, activation = \"sigmoid\" ))\n",
    "    model.compile(loss = \"binary_crossentropy\", optimizer = \"adam\", metrics = [\"accuracy\"] )\n",
    "    return model"
   ]
  },
  {
   "cell_type": "code",
   "execution_count": 26,
   "id": "e8b98e13",
   "metadata": {
    "execution": {
     "iopub.execute_input": "2023-06-25T06:23:10.909882Z",
     "iopub.status.busy": "2023-06-25T06:23:10.909055Z",
     "iopub.status.idle": "2023-06-25T06:23:10.914206Z",
     "shell.execute_reply": "2023-06-25T06:23:10.913386Z"
    },
    "papermill": {
     "duration": 0.030629,
     "end_time": "2023-06-25T06:23:10.916494",
     "exception": false,
     "start_time": "2023-06-25T06:23:10.885865",
     "status": "completed"
    },
    "tags": []
   },
   "outputs": [],
   "source": [
    "# simple_nn_roc_auc_scores = []\n",
    "\n",
    "# kfold = KFold(n_splits = folds)\n",
    "\n",
    "# for train_index, test_index in kfold.split(X):\n",
    "#     X_train, y_train = X.loc[train_index,:].copy(), y.loc[train_index,:].copy()\n",
    "#     X_test, y_test = X.loc[train_index,:].copy(), y.loc[train_index,:].copy()\n",
    "#     for feature in scale_needed_features:\n",
    "#         scaling(feature)\n",
    "\n",
    "#     simple_nn = build_simple_nn()\n",
    "#     simple_nn.fit(X_train,y_train, epochs = 10, batch_size = 32, verbose = True)\n",
    "#     simple_nn_prediction = simple_nn.predict(X_test)\n",
    "#     simple_nn_prediction = np.where(simple_nn_prediction > 0.5, 1,0)\n",
    "#     simple_nn_roc_auc_scores.append(roc_auc_score(y_test,simple_nn_prediction,average = \"weighted\" ))\n",
    "#     print(roc_auc_score(y_test,simple_nn_prediction,average = \"weighted\" ))"
   ]
  },
  {
   "attachments": {},
   "cell_type": "markdown",
   "id": "fd9176fa",
   "metadata": {
    "papermill": {
     "duration": 0.021604,
     "end_time": "2023-06-25T06:23:10.959580",
     "exception": false,
     "start_time": "2023-06-25T06:23:10.937976",
     "status": "completed"
    },
    "tags": []
   },
   "source": [
    "* * *\n",
    "# 🧫 <span style=\"color: DarkGreen; font-family:Times New Roman;\">Final Evaluation</span> <a name=\"final-evaluation\"></a>\n",
    "---\n"
   ]
  },
  {
   "cell_type": "code",
   "execution_count": 27,
   "id": "b269115f",
   "metadata": {
    "execution": {
     "iopub.execute_input": "2023-06-25T06:23:11.005056Z",
     "iopub.status.busy": "2023-06-25T06:23:11.004286Z",
     "iopub.status.idle": "2023-06-25T06:23:58.319566Z",
     "shell.execute_reply": "2023-06-25T06:23:58.318476Z"
    },
    "papermill": {
     "duration": 47.340794,
     "end_time": "2023-06-25T06:23:58.322008",
     "exception": false,
     "start_time": "2023-06-25T06:23:10.981214",
     "status": "completed"
    },
    "tags": []
   },
   "outputs": [
    {
     "name": "stderr",
     "output_type": "stream",
     "text": [
      "2023-06-26 08:50:22.057254: W tensorflow/stream_executor/platform/default/dso_loader.cc:64] Could not load dynamic library 'libcuda.so.1'; dlerror: libcuda.so.1: cannot open shared object file: No such file or directory\n",
      "2023-06-26 08:50:22.057852: W tensorflow/stream_executor/cuda/cuda_driver.cc:263] failed call to cuInit: UNKNOWN ERROR (303)\n",
      "2023-06-26 08:50:22.057971: I tensorflow/stream_executor/cuda/cuda_diagnostics.cc:156] kernel driver does not appear to be running on this host (amyrmahdy): /proc/driver/nvidia/version does not exist\n",
      "2023-06-26 08:50:22.059770: I tensorflow/core/platform/cpu_feature_guard.cc:193] This TensorFlow binary is optimized with oneAPI Deep Neural Network Library (oneDNN) to use the following CPU instructions in performance-critical operations:  AVX2 FMA\n",
      "To enable them in other operations, rebuild TensorFlow with the appropriate compiler flags.\n"
     ]
    },
    {
     "name": "stdout",
     "output_type": "stream",
     "text": [
      "Epoch 1/5\n",
      "4264/4264 [==============================] - 6s 1ms/step - loss: 0.0359 - accuracy: 0.9942\n",
      "Epoch 2/5\n",
      "4264/4264 [==============================] - 6s 1ms/step - loss: 0.0244 - accuracy: 0.9962\n",
      "Epoch 3/5\n",
      "4264/4264 [==============================] - 6s 1ms/step - loss: 0.0232 - accuracy: 0.9962\n",
      "Epoch 4/5\n",
      "4264/4264 [==============================] - 6s 1ms/step - loss: 0.0230 - accuracy: 0.9962\n",
      "Epoch 5/5\n",
      "4264/4264 [==============================] - 6s 1ms/step - loss: 0.0228 - accuracy: 0.9962\n",
      "2843/2843 [==============================] - 2s 802us/step\n"
     ]
    }
   ],
   "source": [
    "X_train = train.drop([\"Machine failure\"], axis = 1)\n",
    "y_train = train[[\"Machine failure\"]]\n",
    "\n",
    "X_test = test.copy()\n",
    "\n",
    "for feature in scale_needed_features:\n",
    "    scaling(feature)\n",
    "\n",
    "simple_nn = build_simple_nn()\n",
    "simple_nn.fit(X_train,y_train, epochs = 5, verbose = True)\n",
    "simple_nn_prediction = simple_nn.predict(X_test)\n",
    "simple_nn_final_prediction = np.where(simple_nn_prediction > 0.5, 1,0)"
   ]
  },
  {
   "attachments": {},
   "cell_type": "markdown",
   "id": "e0d79de1",
   "metadata": {
    "papermill": {
     "duration": 0.077236,
     "end_time": "2023-06-25T06:23:58.480572",
     "exception": false,
     "start_time": "2023-06-25T06:23:58.403336",
     "status": "completed"
    },
    "tags": []
   },
   "source": [
    "* * *\n",
    "# 📋 <span style=\"color: DarkGreen; font-family:Times New Roman;\">Result</span> <a name=\"result\"></a>\n",
    "---\n"
   ]
  },
  {
   "cell_type": "code",
   "execution_count": 28,
   "id": "e1213d3c",
   "metadata": {
    "execution": {
     "iopub.execute_input": "2023-06-25T06:23:58.647744Z",
     "iopub.status.busy": "2023-06-25T06:23:58.647330Z",
     "iopub.status.idle": "2023-06-25T06:23:58.777257Z",
     "shell.execute_reply": "2023-06-25T06:23:58.776099Z"
    },
    "papermill": {
     "duration": 0.212599,
     "end_time": "2023-06-25T06:23:58.779895",
     "exception": false,
     "start_time": "2023-06-25T06:23:58.567296",
     "status": "completed"
    },
    "tags": []
   },
   "outputs": [],
   "source": [
    "output_simple_nn = pd.DataFrame({\n",
    "    \"Machine failure\" : np.squeeze(simple_nn_final_prediction)\n",
    "}).set_index(X_test.index)\n",
    "output_simple_nn.to_csv(\"output_simple_nn.csv\")"
   ]
  },
  {
   "cell_type": "code",
   "execution_count": 29,
   "id": "52e5e93c",
   "metadata": {
    "execution": {
     "iopub.execute_input": "2023-06-25T06:23:58.935231Z",
     "iopub.status.busy": "2023-06-25T06:23:58.934501Z",
     "iopub.status.idle": "2023-06-25T06:23:58.945675Z",
     "shell.execute_reply": "2023-06-25T06:23:58.944700Z"
    },
    "papermill": {
     "duration": 0.09169,
     "end_time": "2023-06-25T06:23:58.948197",
     "exception": false,
     "start_time": "2023-06-25T06:23:58.856507",
     "status": "completed"
    },
    "tags": []
   },
   "outputs": [
    {
     "data": {
      "text/html": [
       "<div>\n",
       "<style scoped>\n",
       "    .dataframe tbody tr th:only-of-type {\n",
       "        vertical-align: middle;\n",
       "    }\n",
       "\n",
       "    .dataframe tbody tr th {\n",
       "        vertical-align: top;\n",
       "    }\n",
       "\n",
       "    .dataframe thead th {\n",
       "        text-align: right;\n",
       "    }\n",
       "</style>\n",
       "<table border=\"1\" class=\"dataframe\">\n",
       "  <thead>\n",
       "    <tr style=\"text-align: right;\">\n",
       "      <th></th>\n",
       "      <th>Machine failure</th>\n",
       "    </tr>\n",
       "    <tr>\n",
       "      <th>id</th>\n",
       "      <th></th>\n",
       "    </tr>\n",
       "  </thead>\n",
       "  <tbody>\n",
       "    <tr>\n",
       "      <th>136429</th>\n",
       "      <td>0</td>\n",
       "    </tr>\n",
       "    <tr>\n",
       "      <th>136430</th>\n",
       "      <td>0</td>\n",
       "    </tr>\n",
       "    <tr>\n",
       "      <th>136431</th>\n",
       "      <td>0</td>\n",
       "    </tr>\n",
       "    <tr>\n",
       "      <th>136432</th>\n",
       "      <td>0</td>\n",
       "    </tr>\n",
       "    <tr>\n",
       "      <th>136433</th>\n",
       "      <td>0</td>\n",
       "    </tr>\n",
       "    <tr>\n",
       "      <th>...</th>\n",
       "      <td>...</td>\n",
       "    </tr>\n",
       "    <tr>\n",
       "      <th>227378</th>\n",
       "      <td>0</td>\n",
       "    </tr>\n",
       "    <tr>\n",
       "      <th>227379</th>\n",
       "      <td>0</td>\n",
       "    </tr>\n",
       "    <tr>\n",
       "      <th>227380</th>\n",
       "      <td>0</td>\n",
       "    </tr>\n",
       "    <tr>\n",
       "      <th>227381</th>\n",
       "      <td>0</td>\n",
       "    </tr>\n",
       "    <tr>\n",
       "      <th>227382</th>\n",
       "      <td>0</td>\n",
       "    </tr>\n",
       "  </tbody>\n",
       "</table>\n",
       "<p>90954 rows × 1 columns</p>\n",
       "</div>"
      ],
      "text/plain": [
       "        Machine failure\n",
       "id                     \n",
       "136429                0\n",
       "136430                0\n",
       "136431                0\n",
       "136432                0\n",
       "136433                0\n",
       "...                 ...\n",
       "227378                0\n",
       "227379                0\n",
       "227380                0\n",
       "227381                0\n",
       "227382                0\n",
       "\n",
       "[90954 rows x 1 columns]"
      ]
     },
     "execution_count": 29,
     "metadata": {},
     "output_type": "execute_result"
    }
   ],
   "source": [
    "output_simple_nn"
   ]
  },
  {
   "cell_type": "code",
   "execution_count": 30,
   "id": "582751bc",
   "metadata": {
    "execution": {
     "iopub.execute_input": "2023-06-25T06:23:59.104232Z",
     "iopub.status.busy": "2023-06-25T06:23:59.103831Z",
     "iopub.status.idle": "2023-06-25T06:23:59.108216Z",
     "shell.execute_reply": "2023-06-25T06:23:59.107181Z"
    },
    "papermill": {
     "duration": 0.08457,
     "end_time": "2023-06-25T06:23:59.110379",
     "exception": false,
     "start_time": "2023-06-25T06:23:59.025809",
     "status": "completed"
    },
    "tags": []
   },
   "outputs": [],
   "source": [
    "# Author: amyrmahdy\n",
    "# Date: 22 June 2023"
   ]
  },
  {
   "attachments": {},
   "cell_type": "markdown",
   "id": "e47c9cf3",
   "metadata": {
    "papermill": {
     "duration": 0.076636,
     "end_time": "2023-06-25T06:23:59.264334",
     "exception": false,
     "start_time": "2023-06-25T06:23:59.187698",
     "status": "completed"
    },
    "tags": []
   },
   "source": [
    "* * *\n",
    "# 📕 <span style=\"color: DarkGreen; font-family:Times New Roman;\">CONCLUSION</span>  <a name=\"conclusion\"></a>\n",
    "---\n"
   ]
  },
  {
   "attachments": {},
   "cell_type": "markdown",
   "id": "e20b1c59",
   "metadata": {
    "papermill": {
     "duration": 0.077172,
     "end_time": "2023-06-25T06:23:59.419986",
     "exception": false,
     "start_time": "2023-06-25T06:23:59.342814",
     "status": "completed"
    },
    "tags": []
   },
   "source": []
  }
 ],
 "metadata": {
  "kernelspec": {
   "display_name": "Python 3",
   "language": "python",
   "name": "python3"
  },
  "language_info": {
   "codemirror_mode": {
    "name": "ipython",
    "version": 3
   },
   "file_extension": ".py",
   "mimetype": "text/x-python",
   "name": "python",
   "nbconvert_exporter": "python",
   "pygments_lexer": "ipython3",
   "version": "3.10.6"
  },
  "papermill": {
   "default_parameters": {},
   "duration": 202.06796,
   "end_time": "2023-06-25T06:24:02.707698",
   "environment_variables": {},
   "exception": null,
   "input_path": "__notebook__.ipynb",
   "output_path": "__notebook__.ipynb",
   "parameters": {},
   "start_time": "2023-06-25T06:20:40.639738",
   "version": "2.4.0"
  }
 },
 "nbformat": 4,
 "nbformat_minor": 5
}
